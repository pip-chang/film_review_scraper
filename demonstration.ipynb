{
 "cells": [
  {
   "cell_type": "code",
   "execution_count": 12,
   "metadata": {},
   "outputs": [
    {
     "name": "stdout",
     "output_type": "stream",
     "text": [
      "Requirement already satisfied: film_review_scraper in ./film_review_scraper (1.0)\n",
      "Requirement already satisfied: beautifulsoup4==4.12.2 in /Users/pipchang/opt/anaconda3/envs/pipjenew/lib/python3.10/site-packages (from film_review_scraper) (4.12.2)\n",
      "Requirement already satisfied: selenium==4.10.0 in /Users/pipchang/opt/anaconda3/envs/pipjenew/lib/python3.10/site-packages (from film_review_scraper) (4.10.0)\n",
      "Requirement already satisfied: soupsieve>1.2 in /Users/pipchang/opt/anaconda3/envs/pipjenew/lib/python3.10/site-packages (from beautifulsoup4==4.12.2->film_review_scraper) (2.3.2.post1)\n",
      "Requirement already satisfied: certifi>=2021.10.8 in /Users/pipchang/opt/anaconda3/envs/pipjenew/lib/python3.10/site-packages (from selenium==4.10.0->film_review_scraper) (2022.12.7)\n",
      "Requirement already satisfied: trio-websocket~=0.9 in /Users/pipchang/opt/anaconda3/envs/pipjenew/lib/python3.10/site-packages (from selenium==4.10.0->film_review_scraper) (0.9.2)\n",
      "Requirement already satisfied: urllib3[socks]<3,>=1.26 in /Users/pipchang/opt/anaconda3/envs/pipjenew/lib/python3.10/site-packages (from selenium==4.10.0->film_review_scraper) (1.26.14)\n",
      "Requirement already satisfied: trio~=0.17 in /Users/pipchang/opt/anaconda3/envs/pipjenew/lib/python3.10/site-packages (from selenium==4.10.0->film_review_scraper) (0.22.0)\n",
      "Requirement already satisfied: exceptiongroup>=1.0.0rc9 in /Users/pipchang/opt/anaconda3/envs/pipjenew/lib/python3.10/site-packages (from trio~=0.17->selenium==4.10.0->film_review_scraper) (1.1.0)\n",
      "Requirement already satisfied: sortedcontainers in /Users/pipchang/opt/anaconda3/envs/pipjenew/lib/python3.10/site-packages (from trio~=0.17->selenium==4.10.0->film_review_scraper) (2.4.0)\n",
      "Requirement already satisfied: outcome in /Users/pipchang/opt/anaconda3/envs/pipjenew/lib/python3.10/site-packages (from trio~=0.17->selenium==4.10.0->film_review_scraper) (1.2.0)\n",
      "Requirement already satisfied: attrs>=19.2.0 in /Users/pipchang/opt/anaconda3/envs/pipjenew/lib/python3.10/site-packages (from trio~=0.17->selenium==4.10.0->film_review_scraper) (22.2.0)\n",
      "Requirement already satisfied: async-generator>=1.9 in /Users/pipchang/opt/anaconda3/envs/pipjenew/lib/python3.10/site-packages (from trio~=0.17->selenium==4.10.0->film_review_scraper) (1.10)\n",
      "Requirement already satisfied: idna in /Users/pipchang/opt/anaconda3/envs/pipjenew/lib/python3.10/site-packages (from trio~=0.17->selenium==4.10.0->film_review_scraper) (3.4)\n",
      "Requirement already satisfied: sniffio in /Users/pipchang/opt/anaconda3/envs/pipjenew/lib/python3.10/site-packages (from trio~=0.17->selenium==4.10.0->film_review_scraper) (1.3.0)\n",
      "Requirement already satisfied: wsproto>=0.14 in /Users/pipchang/opt/anaconda3/envs/pipjenew/lib/python3.10/site-packages (from trio-websocket~=0.9->selenium==4.10.0->film_review_scraper) (1.2.0)\n",
      "Requirement already satisfied: PySocks!=1.5.7,<2.0,>=1.5.6 in /Users/pipchang/opt/anaconda3/envs/pipjenew/lib/python3.10/site-packages (from urllib3[socks]<3,>=1.26->selenium==4.10.0->film_review_scraper) (1.7.1)\n",
      "Requirement already satisfied: h11<1,>=0.9.0 in /Users/pipchang/opt/anaconda3/envs/pipjenew/lib/python3.10/site-packages (from wsproto>=0.14->trio-websocket~=0.9->selenium==4.10.0->film_review_scraper) (0.14.0)\n"
     ]
    }
   ],
   "source": [
    "! pip install --upgrade film_review_scraper"
   ]
  },
  {
   "cell_type": "code",
   "execution_count": 3,
   "metadata": {},
   "outputs": [],
   "source": [
    "FILM_NAME = \"The_Last_Tycoon\"\n",
    "\n",
    "IMDB_URL = \"https://www.imdb.com/title/tt0074777/reviews?sort=submissionDate&dir=desc&ratingFilter=0\"\n",
    "RT_URL = \"https://www.rottentomatoes.com/m/last_tycoon/reviews?type=user\"\n",
    "DB_SHORT_URL = \"https://movie.douban.com/subject/1298293/comments?sort=time&status=P\"\n",
    "DB_LONG_URL = \"https://movie.douban.com/subject/1298293/reviews?sort=time\"\n",
    "\n",
    "FILM_DATA_FILE = \"/Users/pipchang/Documents/VSC/Projects/DH-S/the_last_tycoon/the_last_tycoon.yaml\"\n",
    "OUTPUT_FOLDER = \"/Users/pipchang/Documents/VSC/Projects/DH-S/the_last_tycoon\""
   ]
  },
  {
   "cell_type": "code",
   "execution_count": null,
   "metadata": {},
   "outputs": [],
   "source": [
    "# for IMDB and Rotten Tomatoes\n",
    "from film_review_scraper import IMDB, get_output_path, save_dataclass_to_jsonl\n",
    "website = IMDB()\n",
    "review_blocks = website.fetch_reviews(url=IMDB_URL)\n",
    "reviews = website.parse_reviews(review_blocks)\n",
    "output_path = get_output_path(\n",
    "    folder_path=OUTPUT_FOLDER,\n",
    "    file_name=f\"imdb_{FILM_NAME}_newest\",  # can change according to liking\n",
    "    file_type=\"jsonl\",\n",
    ")\n",
    "save_dataclass_to_jsonl(objects=reviews, output_path=output_path)\n"
   ]
  },
  {
   "cell_type": "code",
   "execution_count": null,
   "metadata": {},
   "outputs": [],
   "source": [
    "# for Douban\n",
    "from film_review_scraper import Douban, get_output_path, save_dataclass_to_jsonl\n",
    "website = Douban()\n",
    "review_blocks = website.fetch_reviews(\n",
    "    url=\"https://movie.douban.com/subject/35209731/comments?sort=time&status=P\",\n",
    "    review_type=\"short\",  # change accordingly\n",
    ")\n",
    "reviews = website.parse_reviews(review_blocks=review_blocks, parse_type=\"short\") # change accordingly\n",
    "output_path = get_output_path(\n",
    "    folder_path=OUTPUT_FOLDER,\n",
    "    file_name=f\"db_{FILM_NAME}_short_popular\",  # can change according to liking\n",
    "    file_type=\"jsonl\",\n",
    ")\n",
    "save_dataclass_to_jsonl(objects=reviews, output_path=output_path)"
   ]
  },
  {
   "cell_type": "code",
   "execution_count": 13,
   "metadata": {},
   "outputs": [
    {
     "ename": "TypeError",
     "evalue": "Object {'location': '浙江', 'upvotes': 3524, 'permalink': None, 'comments': None, 'total_votes': None, 'rating': '4/5', 'rating_ratio': 0.8, 'review': '上映就去看了，算是科普了试飞员这一职业。煽情还是比较多的，毕竟高危职业，这个情怀志向本身就是卖点。虽然我猜到队长要死，但是这个弹射失败的原因一言难尽，感觉还不如弹射成功但是降落高度不够。而且这些设备的细节问题，比如弹射失败、降落伞割不断，比发动机这些科研技术难题要简单多了，为什么不把控好这些细节问题，试飞员的生命安全不是更加得到保障么。是一部成长型电影，不光是试飞员个人的成长，也是中国飞机和航天事业的成长，没有《中国机长》那种成熟的飞行员的惊心动魄，但是最后意外确实体现出了训练的重要性和必要性。', 'date': '2023-04-28', 'website': 'Douban', 'like_ratio': None} is not a dict.",
     "output_type": "error",
     "traceback": [
      "\u001b[0;31m---------------------------------------------------------------------------\u001b[0m",
      "\u001b[0;31mTypeError\u001b[0m                                 Traceback (most recent call last)",
      "Cell \u001b[0;32mIn[13], line 19\u001b[0m\n\u001b[1;32m     13\u001b[0m \u001b[38;5;66;03m# all_data = merge_film_and_review_data(film_data=film_data, review_data=review_data)\u001b[39;00m\n\u001b[1;32m     14\u001b[0m output_path \u001b[38;5;241m=\u001b[39m get_output_path(\n\u001b[1;32m     15\u001b[0m     folder_path\u001b[38;5;241m=\u001b[39mOUTPUT_FOLDER, \n\u001b[1;32m     16\u001b[0m     file_name\u001b[38;5;241m=\u001b[39mFILE_NAME, \n\u001b[1;32m     17\u001b[0m     file_type\u001b[38;5;241m=\u001b[39m\u001b[38;5;124m\"\u001b[39m\u001b[38;5;124mjsonl\u001b[39m\u001b[38;5;124m\"\u001b[39m\n\u001b[1;32m     18\u001b[0m )\n\u001b[0;32m---> 19\u001b[0m \u001b[43msave_dicts_to_jsonl\u001b[49m\u001b[43m(\u001b[49m\u001b[43mlist_of_dicts\u001b[49m\u001b[38;5;241;43m=\u001b[39;49m\u001b[43mreview_data\u001b[49m\u001b[38;5;241;43m.\u001b[39;49m\u001b[43mdata\u001b[49m\u001b[43m,\u001b[49m\u001b[43m \u001b[49m\u001b[43moutput_path\u001b[49m\u001b[38;5;241;43m=\u001b[39;49m\u001b[43moutput_path\u001b[49m\u001b[43m)\u001b[49m\n",
      "File \u001b[0;32m~/Documents/VSC/Projects/DH-S/DH-S/film_review_scraper/data_handling/file_handler.py:106\u001b[0m, in \u001b[0;36msave_dicts_to_jsonl\u001b[0;34m(list_of_dicts, output_path)\u001b[0m\n\u001b[1;32m    <a href='file:///Users/pipchang/Documents/VSC/Projects/DH-S/DH-S/film_review_scraper/data_handling/file_handler.py?line=103'>104</a>\u001b[0m \u001b[39mfor\u001b[39;00m dictionary \u001b[39min\u001b[39;00m list_of_dicts:\n\u001b[1;32m    <a href='file:///Users/pipchang/Documents/VSC/Projects/DH-S/DH-S/film_review_scraper/data_handling/file_handler.py?line=104'>105</a>\u001b[0m     \u001b[39mif\u001b[39;00m \u001b[39mnot\u001b[39;00m is_typeddict(dictionary):\n\u001b[0;32m--> <a href='file:///Users/pipchang/Documents/VSC/Projects/DH-S/DH-S/film_review_scraper/data_handling/file_handler.py?line=105'>106</a>\u001b[0m         \u001b[39mraise\u001b[39;00m \u001b[39mTypeError\u001b[39;00m(\u001b[39mf\u001b[39m\u001b[39m\"\u001b[39m\u001b[39mObject \u001b[39m\u001b[39m{\u001b[39;00mdictionary\u001b[39m}\u001b[39;00m\u001b[39m is not a dict.\u001b[39m\u001b[39m\"\u001b[39m)\n\u001b[1;32m    <a href='file:///Users/pipchang/Documents/VSC/Projects/DH-S/DH-S/film_review_scraper/data_handling/file_handler.py?line=106'>107</a>\u001b[0m     jsonline \u001b[39m=\u001b[39m json\u001b[39m.\u001b[39mdumps(dictionary, ensure_ascii\u001b[39m=\u001b[39m\u001b[39mFalse\u001b[39;00m)\n\u001b[1;32m    <a href='file:///Users/pipchang/Documents/VSC/Projects/DH-S/DH-S/film_review_scraper/data_handling/file_handler.py?line=107'>108</a>\u001b[0m     file\u001b[39m.\u001b[39mwrite(jsonline \u001b[39m+\u001b[39m \u001b[39m\"\u001b[39m\u001b[39m\\n\u001b[39;00m\u001b[39m\"\u001b[39m)\n",
      "\u001b[0;31mTypeError\u001b[0m: Object {'location': '浙江', 'upvotes': 3524, 'permalink': None, 'comments': None, 'total_votes': None, 'rating': '4/5', 'rating_ratio': 0.8, 'review': '上映就去看了，算是科普了试飞员这一职业。煽情还是比较多的，毕竟高危职业，这个情怀志向本身就是卖点。虽然我猜到队长要死，但是这个弹射失败的原因一言难尽，感觉还不如弹射成功但是降落高度不够。而且这些设备的细节问题，比如弹射失败、降落伞割不断，比发动机这些科研技术难题要简单多了，为什么不把控好这些细节问题，试飞员的生命安全不是更加得到保障么。是一部成长型电影，不光是试飞员个人的成长，也是中国飞机和航天事业的成长，没有《中国机长》那种成熟的飞行员的惊心动魄，但是最后意外确实体现出了训练的重要性和必要性。', 'date': '2023-04-28', 'website': 'Douban', 'like_ratio': None} is not a dict."
     ]
    }
   ],
   "source": [
    "# merge datas\n",
    "from film_review_scraper import get_output_path, FilmData, ReviewData, merge_film_and_review_data, save_dicts_to_jsonl\n",
    "\n",
    "INPUT_FOLDER = \"/Users/pipchang/Documents/VSC/Projects/DH-S/download/Born_To_Fly\"\n",
    "OUTPUT_FOLDER = \"/Users/pipchang/Documents/VSC/Projects/DH-S/download/Born_To_Fly/Merged\"\n",
    "FILM_DATA_FILE = \"\"\n",
    "FILE_NAME = \"Born_To_Fly_Merged\"\n",
    "\n",
    "# film_data = FilmData.from_file(FILM_DATA_FILE)\n",
    "review_data = ReviewData.from_folder(\n",
    "    folder_path=INPUT_FOLDER, film_name=\"Born To Fly\"\n",
    ")\n",
    "# all_data = merge_film_and_review_data(film_data=film_data, review_data=review_data)\n",
    "output_path = get_output_path(\n",
    "    folder_path=OUTPUT_FOLDER, \n",
    "    file_name=FILE_NAME, \n",
    "    file_type=\"jsonl\"\n",
    ")\n",
    "save_dicts_to_jsonl(list_of_dicts=review_data.data, output_path=output_path)"
   ]
  },
  {
   "cell_type": "code",
   "execution_count": 7,
   "metadata": {},
   "outputs": [
    {
     "data": {
      "text/plain": [
       "dict"
      ]
     },
     "execution_count": 7,
     "metadata": {},
     "output_type": "execute_result"
    }
   ],
   "source": [
    "type(review_data.data[0])"
   ]
  },
  {
   "cell_type": "code",
   "execution_count": null,
   "metadata": {},
   "outputs": [],
   "source": []
  },
  {
   "cell_type": "code",
   "execution_count": null,
   "metadata": {},
   "outputs": [],
   "source": []
  },
  {
   "cell_type": "code",
   "execution_count": null,
   "metadata": {},
   "outputs": [],
   "source": []
  }
 ],
 "metadata": {
  "interpreter": {
   "hash": "45a86756a88996e814c4432654fc41ed6880797c3f685411ffd1be84db613c4e"
  },
  "kernelspec": {
   "display_name": "Python 3.10.9 ('pipjenew')",
   "language": "python",
   "name": "python3"
  },
  "language_info": {
   "codemirror_mode": {
    "name": "ipython",
    "version": 3
   },
   "file_extension": ".py",
   "mimetype": "text/x-python",
   "name": "python",
   "nbconvert_exporter": "python",
   "pygments_lexer": "ipython3",
   "version": "3.10.9"
  },
  "orig_nbformat": 4
 },
 "nbformat": 4,
 "nbformat_minor": 2
}
