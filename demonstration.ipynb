{
 "cells": [
  {
   "cell_type": "code",
   "execution_count": 1,
   "metadata": {},
   "outputs": [
    {
     "name": "stdout",
     "output_type": "stream",
     "text": [
      "Requirement already satisfied: film_review_scraper in ./film_review_scraper (1.0)\n",
      "Requirement already satisfied: beautifulsoup4==4.12.2 in /Users/pipchang/opt/anaconda3/envs/pipjenew/lib/python3.10/site-packages (from film_review_scraper) (4.12.2)\n",
      "Requirement already satisfied: selenium==4.10.0 in /Users/pipchang/opt/anaconda3/envs/pipjenew/lib/python3.10/site-packages (from film_review_scraper) (4.10.0)\n",
      "Requirement already satisfied: soupsieve>1.2 in /Users/pipchang/opt/anaconda3/envs/pipjenew/lib/python3.10/site-packages (from beautifulsoup4==4.12.2->film_review_scraper) (2.3.2.post1)\n",
      "Requirement already satisfied: trio~=0.17 in /Users/pipchang/opt/anaconda3/envs/pipjenew/lib/python3.10/site-packages (from selenium==4.10.0->film_review_scraper) (0.22.0)\n",
      "Requirement already satisfied: urllib3[socks]<3,>=1.26 in /Users/pipchang/opt/anaconda3/envs/pipjenew/lib/python3.10/site-packages (from selenium==4.10.0->film_review_scraper) (1.26.14)\n",
      "Requirement already satisfied: certifi>=2021.10.8 in /Users/pipchang/opt/anaconda3/envs/pipjenew/lib/python3.10/site-packages (from selenium==4.10.0->film_review_scraper) (2022.12.7)\n",
      "Requirement already satisfied: trio-websocket~=0.9 in /Users/pipchang/opt/anaconda3/envs/pipjenew/lib/python3.10/site-packages (from selenium==4.10.0->film_review_scraper) (0.9.2)\n",
      "Requirement already satisfied: outcome in /Users/pipchang/opt/anaconda3/envs/pipjenew/lib/python3.10/site-packages (from trio~=0.17->selenium==4.10.0->film_review_scraper) (1.2.0)\n",
      "Requirement already satisfied: async-generator>=1.9 in /Users/pipchang/opt/anaconda3/envs/pipjenew/lib/python3.10/site-packages (from trio~=0.17->selenium==4.10.0->film_review_scraper) (1.10)\n",
      "Requirement already satisfied: idna in /Users/pipchang/opt/anaconda3/envs/pipjenew/lib/python3.10/site-packages (from trio~=0.17->selenium==4.10.0->film_review_scraper) (3.4)\n",
      "Requirement already satisfied: exceptiongroup>=1.0.0rc9 in /Users/pipchang/opt/anaconda3/envs/pipjenew/lib/python3.10/site-packages (from trio~=0.17->selenium==4.10.0->film_review_scraper) (1.1.0)\n",
      "Requirement already satisfied: sortedcontainers in /Users/pipchang/opt/anaconda3/envs/pipjenew/lib/python3.10/site-packages (from trio~=0.17->selenium==4.10.0->film_review_scraper) (2.4.0)\n",
      "Requirement already satisfied: attrs>=19.2.0 in /Users/pipchang/opt/anaconda3/envs/pipjenew/lib/python3.10/site-packages (from trio~=0.17->selenium==4.10.0->film_review_scraper) (22.2.0)\n",
      "Requirement already satisfied: sniffio in /Users/pipchang/opt/anaconda3/envs/pipjenew/lib/python3.10/site-packages (from trio~=0.17->selenium==4.10.0->film_review_scraper) (1.3.0)\n",
      "Requirement already satisfied: wsproto>=0.14 in /Users/pipchang/opt/anaconda3/envs/pipjenew/lib/python3.10/site-packages (from trio-websocket~=0.9->selenium==4.10.0->film_review_scraper) (1.2.0)\n",
      "Requirement already satisfied: PySocks!=1.5.7,<2.0,>=1.5.6 in /Users/pipchang/opt/anaconda3/envs/pipjenew/lib/python3.10/site-packages (from urllib3[socks]<3,>=1.26->selenium==4.10.0->film_review_scraper) (1.7.1)\n",
      "Requirement already satisfied: h11<1,>=0.9.0 in /Users/pipchang/opt/anaconda3/envs/pipjenew/lib/python3.10/site-packages (from wsproto>=0.14->trio-websocket~=0.9->selenium==4.10.0->film_review_scraper) (0.14.0)\n"
     ]
    }
   ],
   "source": [
    "! pip install film_review_scraper"
   ]
  },
  {
   "cell_type": "code",
   "execution_count": 3,
   "metadata": {},
   "outputs": [],
   "source": [
    "FILM_NAME = \"The_Last_Tycoon\"\n",
    "\n",
    "IMDB_URL = \"https://www.imdb.com/title/tt0074777/reviews?sort=submissionDate&dir=desc&ratingFilter=0\"\n",
    "RT_URL = \"https://www.rottentomatoes.com/m/last_tycoon/reviews?type=user\"\n",
    "DB_SHORT_URL = \"https://movie.douban.com/subject/1298293/comments?sort=time&status=P\"\n",
    "DB_LONG_URL = \"https://movie.douban.com/subject/1298293/reviews?sort=time\"\n",
    "\n",
    "FILM_DATA_FILE = \"/Users/pipchang/Documents/VSC/Projects/DH-S/the_last_tycoon/the_last_tycoon.yaml\"\n",
    "OUTPUT_FOLDER = \"/Users/pipchang/Documents/VSC/Projects/DH-S/the_last_tycoon\""
   ]
  },
  {
   "cell_type": "code",
   "execution_count": null,
   "metadata": {},
   "outputs": [],
   "source": [
    "# for IMDB and Rotten Tomatoes\n",
    "from film_review_scraper import IMDB, get_output_path, save_dataclass_to_jsonl\n",
    "website = IMDB()\n",
    "review_blocks = website.fetch_reviews(url=IMDB_URL)\n",
    "reviews = website.parse_reviews(review_blocks)\n",
    "output_path = get_output_path(\n",
    "    folder_path=OUTPUT_FOLDER,\n",
    "    file_name=f\"imdb_{FILM_NAME}_newest\",  # can change according to liking\n",
    "    file_type=\"jsonl\",\n",
    ")\n",
    "save_dataclass_to_jsonl(objects=reviews, output_path=output_path)\n"
   ]
  },
  {
   "cell_type": "code",
   "execution_count": null,
   "metadata": {},
   "outputs": [],
   "source": [
    "# for Douban\n",
    "from film_review_scraper import Douban, get_output_path, save_dataclass_to_jsonl\n",
    "website = Douban()\n",
    "review_blocks = website.fetch_reviews(\n",
    "    url=\"https://movie.douban.com/subject/35209731/comments?sort=time&status=P\",\n",
    "    review_type=\"short\",  # change accordingly\n",
    ")\n",
    "reviews = website.parse_reviews(review_blocks=review_blocks, parse_type=\"short\") # change accordingly\n",
    "output_path = get_output_path(\n",
    "    folder_path=OUTPUT_FOLDER,\n",
    "    file_name=f\"db_{FILM_NAME}_short_popular\",  # can change according to liking\n",
    "    file_type=\"jsonl\",\n",
    ")\n",
    "save_dataclass_to_jsonl(objects=reviews, output_path=output_path)"
   ]
  },
  {
   "cell_type": "code",
   "execution_count": 3,
   "metadata": {},
   "outputs": [],
   "source": [
    "# merge datas\n",
    "from film_review_scraper import get_output_path, FilmData, ReviewData, merge_film_and_review_data, save_dicts_to_jsonl\n",
    "\n",
    "INPUT_FOLDER = \"/Users/pipchang/Documents/VSC/Projects/DH-S/download/Top_Gun_Maverick\"\n",
    "OUTPUT_FOLDER = \"/Users/pipchang/Documents/VSC/Projects/DH-S/download/Top_Gun_Maverick/Merged\"\n",
    "FILM_DATA_FILE = \"\"\n",
    "FILE_NAME = \"Top_Gun_Maverick_Merged\"\n",
    "\n",
    "# film_data = FilmData.from_file(FILM_DATA_FILE)\n",
    "review_data = ReviewData.from_folder(\n",
    "    folder_path=INPUT_FOLDER, film_name=\"Top Gun Maverick\"\n",
    ")\n",
    "# all_data = merge_film_and_review_data(film_data=film_data, review_data=review_data)\n",
    "output_path = get_output_path(\n",
    "    folder_path=OUTPUT_FOLDER, \n",
    "    file_name=FILE_NAME, \n",
    "    file_type=\"jsonl\"\n",
    ")\n",
    "save_dicts_to_jsonl(list_of_dicts=review_data.data, output_path=output_path)"
   ]
  },
  {
   "cell_type": "code",
   "execution_count": null,
   "metadata": {},
   "outputs": [],
   "source": []
  },
  {
   "cell_type": "code",
   "execution_count": null,
   "metadata": {},
   "outputs": [],
   "source": []
  }
 ],
 "metadata": {
  "interpreter": {
   "hash": "45a86756a88996e814c4432654fc41ed6880797c3f685411ffd1be84db613c4e"
  },
  "kernelspec": {
   "display_name": "Python 3.10.9 ('pipjenew')",
   "language": "python",
   "name": "python3"
  },
  "language_info": {
   "codemirror_mode": {
    "name": "ipython",
    "version": 3
   },
   "file_extension": ".py",
   "mimetype": "text/x-python",
   "name": "python",
   "nbconvert_exporter": "python",
   "pygments_lexer": "ipython3",
   "version": "3.10.9"
  },
  "orig_nbformat": 4
 },
 "nbformat": 4,
 "nbformat_minor": 2
}
